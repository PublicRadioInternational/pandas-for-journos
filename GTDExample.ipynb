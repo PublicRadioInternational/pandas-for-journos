{
 "cells": [
  {
   "cell_type": "markdown",
   "metadata": {},
   "source": [
    "## Pandas and Jupyter for Journos\n",
    "\n",
    "Hello friend! \n",
    "* This is a Jupyter notebook instance.\n",
    "* All the code on this page runs and works. \n",
    "* You can run and share this notebook.\n",
    " "
   ]
  },
  {
   "cell_type": "markdown",
   "metadata": {},
   "source": [
    "### Step 1: Import the libraries you downloaded."
   ]
  },
  {
   "cell_type": "code",
   "execution_count": 52,
   "metadata": {},
   "outputs": [],
   "source": [
    "%matplotlib inline \n",
    "# This is a setup variable that lets you visualize in the notebook.\n",
    "import matplotlib.pyplot as plt # This is the plotting library we are using. \n",
    "import pandas #This is the data analysis library we are using\n",
    "plt.style.use('ggplot')"
   ]
  },
  {
   "cell_type": "markdown",
   "metadata": {},
   "source": [
    "### Step 2: Now use Pandas to load and read your data.\n",
    "* The main data structure in called a [dataframe](https://pandas.pydata.org/pandas-docs/stable/dsintro.html#dataframe).\n",
    "* This is similiar to the R programming language.\n",
    "* A dataframe is basically like a table loaded into memory you can manipulate with functions similiar to SQL."
   ]
  },
  {
   "cell_type": "code",
   "execution_count": 20,
   "metadata": {},
   "outputs": [],
   "source": [
    "df = pandas.read_excel('GTD-2015-2016.xlsx') # load your dataframe! Pandas can read excel, csv, etc."
   ]
  },
  {
   "cell_type": "code",
   "execution_count": 21,
   "metadata": {},
   "outputs": [
    {
     "name": "stdout",
     "output_type": "stream",
     "text": [
      "There are 129 columns.\n"
     ]
    },
    {
     "data": {
      "text/html": [
       "<div>\n",
       "<style>\n",
       "    .dataframe thead tr:only-child th {\n",
       "        text-align: right;\n",
       "    }\n",
       "\n",
       "    .dataframe thead th {\n",
       "        text-align: left;\n",
       "    }\n",
       "\n",
       "    .dataframe tbody tr th {\n",
       "        vertical-align: top;\n",
       "    }\n",
       "</style>\n",
       "<table border=\"1\" class=\"dataframe\">\n",
       "  <thead>\n",
       "    <tr style=\"text-align: right;\">\n",
       "      <th></th>\n",
       "      <th>eventid</th>\n",
       "      <th>iyear</th>\n",
       "      <th>imonth</th>\n",
       "      <th>iday</th>\n",
       "      <th>gname</th>\n",
       "      <th>nkill</th>\n",
       "      <th>nwound</th>\n",
       "      <th>summary</th>\n",
       "      <th>attacktype1_txt</th>\n",
       "      <th>country_txt</th>\n",
       "    </tr>\n",
       "  </thead>\n",
       "  <tbody>\n",
       "    <tr>\n",
       "      <th>0</th>\n",
       "      <td>201412030034</td>\n",
       "      <td>2015</td>\n",
       "      <td>1</td>\n",
       "      <td>3</td>\n",
       "      <td>Unknown</td>\n",
       "      <td>2.0</td>\n",
       "      <td>5.0</td>\n",
       "      <td>01/03/2015: An explosive device planted on a m...</td>\n",
       "      <td>Bombing/Explosion</td>\n",
       "      <td>Iraq</td>\n",
       "    </tr>\n",
       "    <tr>\n",
       "      <th>1</th>\n",
       "      <td>201412220095</td>\n",
       "      <td>2015</td>\n",
       "      <td>1</td>\n",
       "      <td>1</td>\n",
       "      <td>Muslim extremists</td>\n",
       "      <td>0.0</td>\n",
       "      <td>1.0</td>\n",
       "      <td>01/01/2015: Assailants stabbed Selvedin Begano...</td>\n",
       "      <td>Armed Assault</td>\n",
       "      <td>Bosnia-Herzegovina</td>\n",
       "    </tr>\n",
       "    <tr>\n",
       "      <th>2</th>\n",
       "      <td>201501010001</td>\n",
       "      <td>2015</td>\n",
       "      <td>1</td>\n",
       "      <td>1</td>\n",
       "      <td>Unknown</td>\n",
       "      <td>1.0</td>\n",
       "      <td>1.0</td>\n",
       "      <td>01/01/2015: An explosive device planted in a v...</td>\n",
       "      <td>Bombing/Explosion</td>\n",
       "      <td>Iraq</td>\n",
       "    </tr>\n",
       "    <tr>\n",
       "      <th>3</th>\n",
       "      <td>201501010002</td>\n",
       "      <td>2015</td>\n",
       "      <td>1</td>\n",
       "      <td>1</td>\n",
       "      <td>Unknown</td>\n",
       "      <td>0.0</td>\n",
       "      <td>0.0</td>\n",
       "      <td>01/01/2015: An assailant threw an explosive de...</td>\n",
       "      <td>Facility/Infrastructure Attack</td>\n",
       "      <td>Sweden</td>\n",
       "    </tr>\n",
       "    <tr>\n",
       "      <th>4</th>\n",
       "      <td>201501010003</td>\n",
       "      <td>2015</td>\n",
       "      <td>1</td>\n",
       "      <td>1</td>\n",
       "      <td>Shura Council of Benghazi Revolutionaries</td>\n",
       "      <td>NaN</td>\n",
       "      <td>NaN</td>\n",
       "      <td>01/01/2015: Assailants attacked a Haftar milit...</td>\n",
       "      <td>Bombing/Explosion</td>\n",
       "      <td>Libya</td>\n",
       "    </tr>\n",
       "  </tbody>\n",
       "</table>\n",
       "</div>"
      ],
      "text/plain": [
       "        eventid  iyear  imonth  iday  \\\n",
       "0  201412030034   2015       1     3   \n",
       "1  201412220095   2015       1     1   \n",
       "2  201501010001   2015       1     1   \n",
       "3  201501010002   2015       1     1   \n",
       "4  201501010003   2015       1     1   \n",
       "\n",
       "                                       gname  nkill  nwound  \\\n",
       "0                                    Unknown    2.0     5.0   \n",
       "1                          Muslim extremists    0.0     1.0   \n",
       "2                                    Unknown    1.0     1.0   \n",
       "3                                    Unknown    0.0     0.0   \n",
       "4  Shura Council of Benghazi Revolutionaries    NaN     NaN   \n",
       "\n",
       "                                             summary  \\\n",
       "0  01/03/2015: An explosive device planted on a m...   \n",
       "1  01/01/2015: Assailants stabbed Selvedin Begano...   \n",
       "2  01/01/2015: An explosive device planted in a v...   \n",
       "3  01/01/2015: An assailant threw an explosive de...   \n",
       "4  01/01/2015: Assailants attacked a Haftar milit...   \n",
       "\n",
       "                  attacktype1_txt         country_txt  \n",
       "0               Bombing/Explosion                Iraq  \n",
       "1                   Armed Assault  Bosnia-Herzegovina  \n",
       "2               Bombing/Explosion                Iraq  \n",
       "3  Facility/Infrastructure Attack              Sweden  \n",
       "4               Bombing/Explosion               Libya  "
      ]
     },
     "execution_count": 21,
     "metadata": {},
     "output_type": "execute_result"
    }
   ],
   "source": [
    "print(\"There are\", len(df.columns), \"columns.\")\n",
    "# Let's only take the ones we need: dates, eventid, gname, nkill, nwound, summary, attacktype1_txt, country_txt.\n",
    "# This is called a slice\n",
    "df = df[['eventid','iyear','imonth','iday','gname','nkill','nwound','summary','attacktype1_txt','country_txt']]\n",
    "df.head()"
   ]
  },
  {
   "cell_type": "code",
   "execution_count": 32,
   "metadata": {},
   "outputs": [],
   "source": [
    "# We can also filter. All booleans work. You can chain them too!\n",
    "# This distrubtion of the GTD contains both 2015 and 2016. Let's only take 2016.\n",
    "df = df[df.iyear >= 2016]"
   ]
  },
  {
   "cell_type": "markdown",
   "metadata": {},
   "source": [
    "### Basic analyses"
   ]
  },
  {
   "cell_type": "markdown",
   "metadata": {},
   "source": [
    "* Dataframes have a really cool \"describe\" function.\n",
    "* This should be the first thing you do with any dataset.\n",
    "* The first thing I always do whenever I reload data is do a \"sanity check\" and make sure no rows are missing.\n",
    "* Numbers always go missing!"
   ]
  },
  {
   "cell_type": "code",
   "execution_count": 41,
   "metadata": {},
   "outputs": [
    {
     "data": {
      "text/html": [
       "<div>\n",
       "<style>\n",
       "    .dataframe thead tr:only-child th {\n",
       "        text-align: right;\n",
       "    }\n",
       "\n",
       "    .dataframe thead th {\n",
       "        text-align: left;\n",
       "    }\n",
       "\n",
       "    .dataframe tbody tr th {\n",
       "        vertical-align: top;\n",
       "    }\n",
       "</style>\n",
       "<table border=\"1\" class=\"dataframe\">\n",
       "  <thead>\n",
       "    <tr style=\"text-align: right;\">\n",
       "      <th></th>\n",
       "      <th>eventid</th>\n",
       "      <th>iyear</th>\n",
       "      <th>imonth</th>\n",
       "      <th>iday</th>\n",
       "      <th>nkill</th>\n",
       "      <th>nwound</th>\n",
       "    </tr>\n",
       "  </thead>\n",
       "  <tbody>\n",
       "    <tr>\n",
       "      <th>count</th>\n",
       "      <td>1.344600e+04</td>\n",
       "      <td>13446.0</td>\n",
       "      <td>13446.000000</td>\n",
       "      <td>13446.000000</td>\n",
       "      <td>12657.000000</td>\n",
       "      <td>12291.000000</td>\n",
       "    </tr>\n",
       "    <tr>\n",
       "      <th>mean</th>\n",
       "      <td>2.016065e+11</td>\n",
       "      <td>2016.0</td>\n",
       "      <td>6.333556</td>\n",
       "      <td>15.563960</td>\n",
       "      <td>2.735482</td>\n",
       "      <td>3.239281</td>\n",
       "    </tr>\n",
       "    <tr>\n",
       "      <th>std</th>\n",
       "      <td>3.484692e+06</td>\n",
       "      <td>0.0</td>\n",
       "      <td>3.387209</td>\n",
       "      <td>8.849733</td>\n",
       "      <td>10.192771</td>\n",
       "      <td>18.079976</td>\n",
       "    </tr>\n",
       "    <tr>\n",
       "      <th>min</th>\n",
       "      <td>2.016010e+11</td>\n",
       "      <td>2016.0</td>\n",
       "      <td>1.000000</td>\n",
       "      <td>1.000000</td>\n",
       "      <td>0.000000</td>\n",
       "      <td>0.000000</td>\n",
       "    </tr>\n",
       "    <tr>\n",
       "      <th>25%</th>\n",
       "      <td>2.016033e+11</td>\n",
       "      <td>2016.0</td>\n",
       "      <td>3.000000</td>\n",
       "      <td>8.000000</td>\n",
       "      <td>0.000000</td>\n",
       "      <td>0.000000</td>\n",
       "    </tr>\n",
       "    <tr>\n",
       "      <th>50%</th>\n",
       "      <td>2.016062e+11</td>\n",
       "      <td>2016.0</td>\n",
       "      <td>6.000000</td>\n",
       "      <td>15.000000</td>\n",
       "      <td>1.000000</td>\n",
       "      <td>0.000000</td>\n",
       "    </tr>\n",
       "    <tr>\n",
       "      <th>75%</th>\n",
       "      <td>2.016092e+11</td>\n",
       "      <td>2016.0</td>\n",
       "      <td>9.000000</td>\n",
       "      <td>23.000000</td>\n",
       "      <td>2.000000</td>\n",
       "      <td>3.000000</td>\n",
       "    </tr>\n",
       "    <tr>\n",
       "      <th>max</th>\n",
       "      <td>2.017013e+11</td>\n",
       "      <td>2016.0</td>\n",
       "      <td>12.000000</td>\n",
       "      <td>31.000000</td>\n",
       "      <td>421.000000</td>\n",
       "      <td>1500.000000</td>\n",
       "    </tr>\n",
       "  </tbody>\n",
       "</table>\n",
       "</div>"
      ],
      "text/plain": [
       "            eventid    iyear        imonth          iday         nkill  \\\n",
       "count  1.344600e+04  13446.0  13446.000000  13446.000000  12657.000000   \n",
       "mean   2.016065e+11   2016.0      6.333556     15.563960      2.735482   \n",
       "std    3.484692e+06      0.0      3.387209      8.849733     10.192771   \n",
       "min    2.016010e+11   2016.0      1.000000      1.000000      0.000000   \n",
       "25%    2.016033e+11   2016.0      3.000000      8.000000      0.000000   \n",
       "50%    2.016062e+11   2016.0      6.000000     15.000000      1.000000   \n",
       "75%    2.016092e+11   2016.0      9.000000     23.000000      2.000000   \n",
       "max    2.017013e+11   2016.0     12.000000     31.000000    421.000000   \n",
       "\n",
       "             nwound  \n",
       "count  12291.000000  \n",
       "mean       3.239281  \n",
       "std       18.079976  \n",
       "min        0.000000  \n",
       "25%        0.000000  \n",
       "50%        0.000000  \n",
       "75%        3.000000  \n",
       "max     1500.000000  "
      ]
     },
     "execution_count": 41,
     "metadata": {},
     "output_type": "execute_result"
    }
   ],
   "source": [
    "df.describe()"
   ]
  },
  {
   "cell_type": "markdown",
   "metadata": {},
   "source": [
    "### Frequency tables"
   ]
  },
  {
   "cell_type": "code",
   "execution_count": 82,
   "metadata": {},
   "outputs": [
    {
     "data": {
      "text/plain": [
       "Iraq           3356\n",
       "Afghanistan    1613\n",
       "India          1016\n",
       "Pakistan        859\n",
       "Philippines     630\n",
       "Name: country_txt, dtype: int64"
      ]
     },
     "execution_count": 82,
     "metadata": {},
     "output_type": "execute_result"
    }
   ],
   "source": [
    "# frequency tables: What does each mean?\n",
    "df.nkill.value_counts().head() "
   ]
  },
  {
   "cell_type": "code",
   "execution_count": 84,
   "metadata": {},
   "outputs": [
    {
     "data": {
      "text/plain": [
       "0.0    6863\n",
       "1.0    1216\n",
       "2.0     732\n",
       "3.0     600\n",
       "4.0     484\n",
       "Name: nwound, dtype: int64"
      ]
     },
     "execution_count": 84,
     "metadata": {},
     "output_type": "execute_result"
    }
   ],
   "source": [
    "df.nwound.value_counts().head()"
   ]
  },
  {
   "cell_type": "code",
   "execution_count": 85,
   "metadata": {},
   "outputs": [
    {
     "data": {
      "text/plain": [
       "Iraq           3356\n",
       "Afghanistan    1613\n",
       "India          1016\n",
       "Pakistan        859\n",
       "Philippines     630\n",
       "Name: country_txt, dtype: int64"
      ]
     },
     "execution_count": 85,
     "metadata": {},
     "output_type": "execute_result"
    }
   ],
   "source": [
    "df.country_txt.value_counts().head()"
   ]
  },
  {
   "cell_type": "markdown",
   "metadata": {},
   "source": [
    "### Sorting by column: Most deadly attacks (this is how I looked for mass executions)"
   ]
  },
  {
   "cell_type": "code",
   "execution_count": 89,
   "metadata": {},
   "outputs": [
    {
     "data": {
      "text/html": [
       "<div>\n",
       "<style>\n",
       "    .dataframe thead tr:only-child th {\n",
       "        text-align: right;\n",
       "    }\n",
       "\n",
       "    .dataframe thead th {\n",
       "        text-align: left;\n",
       "    }\n",
       "\n",
       "    .dataframe tbody tr th {\n",
       "        vertical-align: top;\n",
       "    }\n",
       "</style>\n",
       "<table border=\"1\" class=\"dataframe\">\n",
       "  <thead>\n",
       "    <tr style=\"text-align: right;\">\n",
       "      <th></th>\n",
       "      <th>eventid</th>\n",
       "      <th>iyear</th>\n",
       "      <th>imonth</th>\n",
       "      <th>iday</th>\n",
       "      <th>gname</th>\n",
       "      <th>nkill</th>\n",
       "      <th>nwound</th>\n",
       "      <th>summary</th>\n",
       "      <th>attacktype1_txt</th>\n",
       "      <th>country_txt</th>\n",
       "    </tr>\n",
       "  </thead>\n",
       "  <tbody>\n",
       "    <tr>\n",
       "      <th>27719</th>\n",
       "      <td>201612100011</td>\n",
       "      <td>2016</td>\n",
       "      <td>12</td>\n",
       "      <td>10</td>\n",
       "      <td>Islamic State of Iraq and the Levant (ISIL)</td>\n",
       "      <td>421.0</td>\n",
       "      <td>NaN</td>\n",
       "      <td>12/10/2016: Assailants, including suicide bomb...</td>\n",
       "      <td>Hostage Taking (Kidnapping)</td>\n",
       "      <td>Syria</td>\n",
       "    </tr>\n",
       "    <tr>\n",
       "      <th>21920</th>\n",
       "      <td>201607020002</td>\n",
       "      <td>2016</td>\n",
       "      <td>7</td>\n",
       "      <td>3</td>\n",
       "      <td>Islamic State of Iraq and the Levant (ISIL)</td>\n",
       "      <td>383.0</td>\n",
       "      <td>200.0</td>\n",
       "      <td>07/03/2016: A suicide bomber detonated an expl...</td>\n",
       "      <td>Bombing/Explosion</td>\n",
       "      <td>Iraq</td>\n",
       "    </tr>\n",
       "    <tr>\n",
       "      <th>16286</th>\n",
       "      <td>201602070020</td>\n",
       "      <td>2016</td>\n",
       "      <td>2</td>\n",
       "      <td>7</td>\n",
       "      <td>Islamic State of Iraq and the Levant (ISIL)</td>\n",
       "      <td>300.0</td>\n",
       "      <td>0.0</td>\n",
       "      <td>02/07/2016: Assailants executed 300 civilian a...</td>\n",
       "      <td>Hostage Taking (Kidnapping)</td>\n",
       "      <td>Iraq</td>\n",
       "    </tr>\n",
       "    <tr>\n",
       "      <th>25927</th>\n",
       "      <td>201610220007</td>\n",
       "      <td>2016</td>\n",
       "      <td>10</td>\n",
       "      <td>21</td>\n",
       "      <td>Islamic State of Iraq and the Levant (ISIL)</td>\n",
       "      <td>284.0</td>\n",
       "      <td>0.0</td>\n",
       "      <td>10/21/2016: Assailants abducted 284 civilians ...</td>\n",
       "      <td>Hostage Taking (Kidnapping)</td>\n",
       "      <td>Iraq</td>\n",
       "    </tr>\n",
       "    <tr>\n",
       "      <th>23750</th>\n",
       "      <td>201608190039</td>\n",
       "      <td>2016</td>\n",
       "      <td>8</td>\n",
       "      <td>19</td>\n",
       "      <td>Sudan People's Liberation Movement in Oppositi...</td>\n",
       "      <td>283.0</td>\n",
       "      <td>NaN</td>\n",
       "      <td>08/19/2016: Assailants attacked Pajut, Jonglei...</td>\n",
       "      <td>Armed Assault</td>\n",
       "      <td>South Sudan</td>\n",
       "    </tr>\n",
       "    <tr>\n",
       "      <th>19054</th>\n",
       "      <td>201604210024</td>\n",
       "      <td>2016</td>\n",
       "      <td>4</td>\n",
       "      <td>21</td>\n",
       "      <td>Islamic State of Iraq and the Levant (ISIL)</td>\n",
       "      <td>250.0</td>\n",
       "      <td>0.0</td>\n",
       "      <td>04/21/2016: Assailants executed 250 women in M...</td>\n",
       "      <td>Hostage Taking (Kidnapping)</td>\n",
       "      <td>Iraq</td>\n",
       "    </tr>\n",
       "    <tr>\n",
       "      <th>26074</th>\n",
       "      <td>201610260019</td>\n",
       "      <td>2016</td>\n",
       "      <td>10</td>\n",
       "      <td>26</td>\n",
       "      <td>Islamic State of Iraq and the Levant (ISIL)</td>\n",
       "      <td>190.0</td>\n",
       "      <td>0.0</td>\n",
       "      <td>10/26/2016: Assailants executed 190 people in ...</td>\n",
       "      <td>Hostage Taking (Kidnapping)</td>\n",
       "      <td>Iraq</td>\n",
       "    </tr>\n",
       "    <tr>\n",
       "      <th>25254</th>\n",
       "      <td>201610030023</td>\n",
       "      <td>2016</td>\n",
       "      <td>10</td>\n",
       "      <td>3</td>\n",
       "      <td>Taliban</td>\n",
       "      <td>154.0</td>\n",
       "      <td>120.0</td>\n",
       "      <td>10/03/2016: Assailants attacked Kunduz city, K...</td>\n",
       "      <td>Armed Assault</td>\n",
       "      <td>Afghanistan</td>\n",
       "    </tr>\n",
       "    <tr>\n",
       "      <th>15360</th>\n",
       "      <td>201601150004</td>\n",
       "      <td>2016</td>\n",
       "      <td>1</td>\n",
       "      <td>15</td>\n",
       "      <td>Al-Shabaab</td>\n",
       "      <td>141.0</td>\n",
       "      <td>NaN</td>\n",
       "      <td>01/15/2016: Multiple suicide bombers in explos...</td>\n",
       "      <td>Hostage Taking (Kidnapping)</td>\n",
       "      <td>Somalia</td>\n",
       "    </tr>\n",
       "    <tr>\n",
       "      <th>27363</th>\n",
       "      <td>201611290020</td>\n",
       "      <td>2016</td>\n",
       "      <td>10</td>\n",
       "      <td>29</td>\n",
       "      <td>Islamic State of Iraq and the Levant (ISIL)</td>\n",
       "      <td>130.0</td>\n",
       "      <td>0.0</td>\n",
       "      <td>10/29/2016: Assailants kidnapped and executed ...</td>\n",
       "      <td>Hostage Taking (Kidnapping)</td>\n",
       "      <td>Iraq</td>\n",
       "    </tr>\n",
       "  </tbody>\n",
       "</table>\n",
       "</div>"
      ],
      "text/plain": [
       "            eventid  iyear  imonth  iday  \\\n",
       "27719  201612100011   2016      12    10   \n",
       "21920  201607020002   2016       7     3   \n",
       "16286  201602070020   2016       2     7   \n",
       "25927  201610220007   2016      10    21   \n",
       "23750  201608190039   2016       8    19   \n",
       "19054  201604210024   2016       4    21   \n",
       "26074  201610260019   2016      10    26   \n",
       "25254  201610030023   2016      10     3   \n",
       "15360  201601150004   2016       1    15   \n",
       "27363  201611290020   2016      10    29   \n",
       "\n",
       "                                                   gname  nkill  nwound  \\\n",
       "27719        Islamic State of Iraq and the Levant (ISIL)  421.0     NaN   \n",
       "21920        Islamic State of Iraq and the Levant (ISIL)  383.0   200.0   \n",
       "16286        Islamic State of Iraq and the Levant (ISIL)  300.0     0.0   \n",
       "25927        Islamic State of Iraq and the Levant (ISIL)  284.0     0.0   \n",
       "23750  Sudan People's Liberation Movement in Oppositi...  283.0     NaN   \n",
       "19054        Islamic State of Iraq and the Levant (ISIL)  250.0     0.0   \n",
       "26074        Islamic State of Iraq and the Levant (ISIL)  190.0     0.0   \n",
       "25254                                            Taliban  154.0   120.0   \n",
       "15360                                         Al-Shabaab  141.0     NaN   \n",
       "27363        Islamic State of Iraq and the Levant (ISIL)  130.0     0.0   \n",
       "\n",
       "                                                 summary  \\\n",
       "27719  12/10/2016: Assailants, including suicide bomb...   \n",
       "21920  07/03/2016: A suicide bomber detonated an expl...   \n",
       "16286  02/07/2016: Assailants executed 300 civilian a...   \n",
       "25927  10/21/2016: Assailants abducted 284 civilians ...   \n",
       "23750  08/19/2016: Assailants attacked Pajut, Jonglei...   \n",
       "19054  04/21/2016: Assailants executed 250 women in M...   \n",
       "26074  10/26/2016: Assailants executed 190 people in ...   \n",
       "25254  10/03/2016: Assailants attacked Kunduz city, K...   \n",
       "15360  01/15/2016: Multiple suicide bombers in explos...   \n",
       "27363  10/29/2016: Assailants kidnapped and executed ...   \n",
       "\n",
       "                   attacktype1_txt  country_txt  \n",
       "27719  Hostage Taking (Kidnapping)        Syria  \n",
       "21920            Bombing/Explosion         Iraq  \n",
       "16286  Hostage Taking (Kidnapping)         Iraq  \n",
       "25927  Hostage Taking (Kidnapping)         Iraq  \n",
       "23750                Armed Assault  South Sudan  \n",
       "19054  Hostage Taking (Kidnapping)         Iraq  \n",
       "26074  Hostage Taking (Kidnapping)         Iraq  \n",
       "25254                Armed Assault  Afghanistan  \n",
       "15360  Hostage Taking (Kidnapping)      Somalia  \n",
       "27363  Hostage Taking (Kidnapping)         Iraq  "
      ]
     },
     "execution_count": 89,
     "metadata": {},
     "output_type": "execute_result"
    }
   ],
   "source": [
    "df.sort_values('nkill', ascending=False)[:10]"
   ]
  },
  {
   "cell_type": "markdown",
   "metadata": {},
   "source": [
    "### Descriptive plotting\n",
    "Histograms are key to look at distributions.\n",
    "I also like to use Seaborn, a great statistical python package."
   ]
  },
  {
   "cell_type": "code",
   "execution_count": 69,
   "metadata": {},
   "outputs": [
    {
     "data": {
      "text/plain": [
       "<matplotlib.text.Text at 0x11d625eb8>"
      ]
     },
     "execution_count": 69,
     "metadata": {},
     "output_type": "execute_result"
    },
    {
     "data": {
      "image/png": "[encoded data removed]",
      "text/plain": [
       "<matplotlib.figure.Figure at 0x11d40d6d8>"
      ]
     },
     "metadata": {},
     "output_type": "display_data"
    }
   ],
   "source": [
    "df.nkill.hist(bins=100)\n",
    "plt.title(\"Distribution of fatalities per terror attack\")\n",
    "plt.ylabel('number of incidents')\n",
    "plt.xlabel('number of fatalities')\n",
    "# you can save: plt.savefig('PATH_TO_SAVE')"
   ]
  },
  {
   "cell_type": "code",
   "execution_count": 68,
   "metadata": {},
   "outputs": [
    {
     "data": {
      "text/plain": [
       "<matplotlib.text.Text at 0x11d3faac8>"
      ]
     },
     "execution_count": 68,
     "metadata": {},
     "output_type": "execute_result"
    },
    {
     "data": {
      "image/png": "[encoded data removed]",
      "text/plain": [
       "<matplotlib.figure.Figure at 0x11d40ddd8>"
      ]
     },
     "metadata": {},
     "output_type": "display_data"
    }
   ],
   "source": [
    "df.nwound.hist(bins=100)\n",
    "plt.title(\"Distribution of wounded per terror attack\")\n",
    "plt.ylabel('number of incidents')\n",
    "plt.xlabel('number of wounded')"
   ]
  },
  {
   "cell_type": "markdown",
   "metadata": {},
   "source": [
    "## I/O data saving"
   ]
  },
  {
   "cell_type": "code",
   "execution_count": null,
   "metadata": {
    "collapsed": true
   },
   "outputs": [],
   "source": [
    "df.to_csv('PATH_TO_OUTPUT.csv')"
   ]
  }
 ],
 "metadata": {
  "kernelspec": {
   "display_name": "Python 3",
   "language": "python",
   "name": "python3"
  },
  "language_info": {
   "codemirror_mode": {
    "name": "ipython",
    "version": 3
   },
   "file_extension": ".py",
   "mimetype": "text/x-python",
   "name": "python",
   "nbconvert_exporter": "python",
   "pygments_lexer": "ipython3",
   "version": "3.6.1"
  }
 },
 "nbformat": 4,
 "nbformat_minor": 2
}
